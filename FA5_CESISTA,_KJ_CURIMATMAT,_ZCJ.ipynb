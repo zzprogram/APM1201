{
  "nbformat": 4,
  "nbformat_minor": 0,
  "metadata": {
    "colab": {
      "provenance": []
    },
    "kernelspec": {
      "name": "python3",
      "display_name": "Python 3"
    },
    "language_info": {
      "name": "python"
    }
  },
  "cells": [
    {
      "cell_type": "markdown",
      "source": [
        "P-5.32 Write a Python function that takes two three-dimensional numeric data sets and adds them componentwise."
      ],
      "metadata": {
        "id": "zX4rjctg4t0M"
      }
    },
    {
      "cell_type": "code",
      "execution_count": null,
      "metadata": {
        "id": "ecmPjWlS4sff",
        "colab": {
          "base_uri": "https://localhost:8080/"
        },
        "outputId": "204e4b95-8bbf-4ca5-cd1a-82043080f2fb"
      },
      "outputs": [
        {
          "name": "stdout",
          "output_type": "stream",
          "text": [
            "Enter the number of rows for 3d datasets: 2\n",
            "Enter the number of columns for 3d datasets: 2\n",
            "Enter the depth for 3d datasets: 2\n",
            "\n",
            "Input values for first dataset:\n",
            "\n",
            "Enter element for array [0][0][0]: 1\n",
            "Enter element for array [0][0][1]: 2\n",
            "Enter element for array [0][1][0]: 4\n",
            "Enter element for array [0][1][1]: 5\n",
            "Enter element for array [1][0][0]: 7\n",
            "Enter element for array [1][0][1]: 8\n",
            "Enter element for array [1][1][0]: 6\n",
            "Enter element for array [1][1][1]: 5\n",
            "\n",
            "Input values for second dataset:\n",
            "\n",
            "Enter element for array [0][0][0]: 2\n",
            "Enter element for array [0][0][1]: 2\n",
            "Enter element for array [0][1][0]: 2\n",
            "Enter element for array [0][1][1]: 3\n",
            "Enter element for array [1][0][0]: 3\n",
            "Enter element for array [1][0][1]: 4\n",
            "Enter element for array [1][1][0]: 5\n"
          ]
        }
      ],
      "source": [
        "def create_3d_dataset():\n",
        "    x = int(input(\"Enter the number of rows for 3d datasets: \"))\n",
        "    y = int(input(\"Enter the number of columns for 3d datasets: \"))\n",
        "    z = int(input(\"Enter the depth for 3d datasets: \"))\n",
        "    return x, y, z\n",
        "\n",
        "def input_datasets(x, y, z):\n",
        "    arr = []\n",
        "    for i in range(x):\n",
        "        row = []\n",
        "        for j in range(y):\n",
        "            layer = []\n",
        "            for k in range(z):\n",
        "                value = int(input(f\"Enter element for array [{i}][{j}][{k}]: \"))\n",
        "                layer.append(value)\n",
        "            row.append(layer)\n",
        "        arr.append(row)\n",
        "    return arr\n",
        "\n",
        "def add_datasets(arr1, arr2):\n",
        "    result = []\n",
        "    for i in range(len(arr1)):\n",
        "        row = []\n",
        "        for j in range(len(arr1[0])):\n",
        "            layer = []\n",
        "            for k in range(len(arr1[0][0])):\n",
        "                value = arr1[i][j][k] + arr2[i][j][k]\n",
        "                layer.append(value)\n",
        "            row.append(layer)\n",
        "        result.append(row)\n",
        "    return result\n",
        "\n",
        "x, y, z = create_3d_dataset()\n",
        "\n",
        "print(\"\\nInput values for first dataset:\\n\")\n",
        "arr1 = input_datasets(x, y, z)\n",
        "\n",
        "print(\"\\nInput values for second dataset:\\n\")\n",
        "arr2 = input_datasets(x, y, z)\n",
        "\n",
        "print(\"\\nFirst Dataset:\")\n",
        "for row in arr1:\n",
        "    print(row)\n",
        "\n",
        "print(\"\\nSecond Dataset:\")\n",
        "for row in arr2:\n",
        "    print(row)\n",
        "\n",
        "result = add_datasets(arr1, arr2)\n",
        "\n",
        "print(\"\\nResult of the two dataset:\")\n",
        "for row in result:\n",
        "    print(row)"
      ]
    },
    {
      "cell_type": "markdown",
      "source": [
        "P-6.32 Give a complete ArrayDeque implementation of the double-ended queue ADT as sketched in Section 6.3.2."
      ],
      "metadata": {
        "id": "RsPf0P1oFJOd"
      }
    },
    {
      "cell_type": "code",
      "source": [
        "class Deque:\n",
        "    def __init__(self, capacity=10):\n",
        "        self.capacity = capacity\n",
        "        self.queue = [None] * capacity\n",
        "        self.front = self.rear = -1\n",
        "        self.size = 0\n",
        "\n",
        "    def is_empty(self):\n",
        "        return self.size == 0\n",
        "\n",
        "    def is_full(self):\n",
        "        return self.size == self.capacity\n",
        "\n",
        "    def add_front(self, item):\n",
        "        if self.is_full():\n",
        "            raise Exception(\"Deque is full\")\n",
        "        self.front = (self.front - 1) % self.capacity if self.front != -1 else 0\n",
        "        self.queue[self.front] = item\n",
        "        if self.rear == -1: self.rear = self.front\n",
        "        self.size += 1\n",
        "\n",
        "    def add_rear(self, item):\n",
        "        if self.is_full():\n",
        "            raise Exception(\"Deque is full\")\n",
        "        self.rear = (self.rear + 1) % self.capacity if self.rear != -1 else 0\n",
        "        self.queue[self.rear] = item\n",
        "        if self.front == -1: self.front = self.rear\n",
        "        self.size += 1\n",
        "\n",
        "    def remove_front(self):\n",
        "        if self.is_empty():\n",
        "            raise Exception(\"Deque is empty\")\n",
        "        removed_item = self.queue[self.front]\n",
        "        if self.front == self.rear:\n",
        "            self.front = self.rear = -1\n",
        "        else:\n",
        "            self.front = (self.front + 1) % self.capacity\n",
        "        self.size -= 1\n",
        "        return removed_item\n",
        "\n",
        "    def remove_rear(self):\n",
        "        if self.is_empty():\n",
        "            raise Exception(\"Deque is empty\")\n",
        "        removed_item = self.queue[self.rear]\n",
        "        if self.front == self.rear:\n",
        "            self.front = self.rear = -1\n",
        "        else:\n",
        "            self.rear = (self.rear - 1) % self.capacity\n",
        "        self.size -= 1\n",
        "        return removed_item\n",
        "\n",
        "    def get_front(self):\n",
        "        if self.is_empty():\n",
        "            raise Exception(\"Deque is empty\")\n",
        "        return self.queue[self.front]\n",
        "\n",
        "    def get_rear(self):\n",
        "        if self.is_empty():\n",
        "            raise Exception(\"Deque is empty\")\n",
        "        return self.queue[self.rear]\n",
        "\n",
        "    def display(self):\n",
        "        if not self.is_empty():\n",
        "            elements = [self.queue[(self.front + i) % self.capacity] for i in range(self.size)]\n",
        "            print(\"Deque elements:\", elements)\n",
        "        else:\n",
        "            print(\"Deque is empty.\")\n",
        "\n",
        "\n",
        "deque = Deque(5)\n",
        "deque.add_rear(10)\n",
        "deque.add_rear(20)\n",
        "deque.add_front(5)\n",
        "deque.display()\n",
        "print(deque.remove_front())\n",
        "print(deque.get_rear())\n",
        "deque.display()"
      ],
      "metadata": {
        "id": "dWUSim3fE7Zq",
        "colab": {
          "base_uri": "https://localhost:8080/"
        },
        "outputId": "de3f9a55-6eb9-4523-a5b7-7710be66110c"
      },
      "execution_count": 1,
      "outputs": [
        {
          "output_type": "stream",
          "name": "stdout",
          "text": [
            "Deque elements: [5, 10, 20]\n",
            "5\n",
            "20\n",
            "Deque elements: [10, 20]\n"
          ]
        }
      ]
    }
  ]
}
{
  "nbformat": 4,
  "nbformat_minor": 0,
  "metadata": {
    "colab": {
      "provenance": []
    },
    "kernelspec": {
      "name": "python3",
      "display_name": "Python 3"
    },
    "language_info": {
      "name": "python"
    }
  },
  "cells": [
    {
      "cell_type": "markdown",
      "source": [
        "**14.** Suppose you are given an n-element sequence, S, containing distinct integers that are listed in increasing order. Given a number k, describe a recursive algorithm to find two integers in S that sum to k, if such a pair exists. What is the running time of your algorithm?"
      ],
      "metadata": {
        "id": "SKKQ9msR35td"
      }
    },
    {
      "cell_type": "code",
      "execution_count": 2,
      "metadata": {
        "colab": {
          "base_uri": "https://localhost:8080/"
        },
        "id": "r6pbdVqdy9BO",
        "outputId": "018b41be-7398-4991-e52a-f30364aa818b"
      },
      "outputs": [
        {
          "output_type": "stream",
          "name": "stdout",
          "text": [
            "(1, 9)\n"
          ]
        }
      ],
      "source": [
        "def find_pair(S, k, left=0, right=None):\n",
        "    if right is None:\n",
        "        right = len(S) - 1\n",
        "\n",
        "    if left >= right:\n",
        "        return None\n",
        "\n",
        "    current_sum = S[left] + S[right]\n",
        "\n",
        "    if current_sum == k:\n",
        "        return (S[left], S[right])\n",
        "\n",
        "    if current_sum < k:\n",
        "        return find_pair(S, k, left + 1, right)\n",
        "\n",
        "    return find_pair(S, k, left, right - 1)\n",
        "\n",
        "S = [1, 3, 5, 7, 9, 11, 13]\n",
        "k = 10\n",
        "result = find_pair(S, k)\n",
        "print(result)\n"
      ]
    }
  ]
}
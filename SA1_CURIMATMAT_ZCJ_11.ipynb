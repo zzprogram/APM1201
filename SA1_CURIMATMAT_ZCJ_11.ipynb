{
  "nbformat": 4,
  "nbformat_minor": 0,
  "metadata": {
    "colab": {
      "provenance": []
    },
    "kernelspec": {
      "name": "python3",
      "display_name": "Python 3"
    },
    "language_info": {
      "name": "python"
    }
  },
  "cells": [
    {
      "cell_type": "markdown",
      "source": [
        "**11.** Write a Python program that simulates a handheld calculator. Your program should process input from the Python console representing buttons that are “pushed,” and then output the contents of the screen after each operation is performed. Minimally, your calculator should be able to process the basic arithmetic operations and a reset/clear operation."
      ],
      "metadata": {
        "id": "dRos8RhidZN2"
      }
    },
    {
      "cell_type": "code",
      "execution_count": null,
      "metadata": {
        "colab": {
          "base_uri": "https://localhost:8080/"
        },
        "id": "f7RqsQ0UX963",
        "outputId": "9f4d17b0-d5e3-4bbd-ec82-b236efc65c8a"
      },
      "outputs": [
        {
          "output_type": "stream",
          "name": "stdout",
          "text": [
            "Enter an expression, 'c' to clear, or 'off' to off the calculator: 4*2+4\n",
            "12\n",
            "Enter an expression, 'c' to clear, or 'off' to off the calculator: 68/5\n",
            "13.6\n",
            "Enter an expression, 'c' to clear, or 'off' to off the calculator: 115 - 38\n",
            "77\n",
            "Enter an expression, 'c' to clear, or 'off' to off the calculator: 0*1\n",
            "0\n",
            "Enter an expression, 'c' to clear, or 'off' to off the calculator: c\n",
            "0\n",
            "Enter an expression, 'c' to clear, or 'off' to off the calculator: off\n",
            "Calculator turned off.\n",
            "\n"
          ]
        }
      ],
      "source": [
        "def calc():\n",
        "    \"\"\"Simulates a handheld calculator.\"\"\"\n",
        "\n",
        "    while True:\n",
        "        expr = input(\"Enter an expression, 'c' to clear, or 'off' to off the calculator: \")\n",
        "\n",
        "        if expr.lower() == \"off\":\n",
        "          print(\"Calculator turned off.\")\n",
        "        elif expr.lower() == \"c\":\n",
        "          print(\"0\")\n",
        "          continue\n",
        "\n",
        "        try:\n",
        "          print(eval(expr))\n",
        "        except (NameError, SyntaxError):\n",
        "          print()\n",
        "\n",
        "if __name__ == \"__main__\":\n",
        "  calc()\n"
      ]
    }
  ]
}